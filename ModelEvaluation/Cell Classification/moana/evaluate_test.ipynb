{
 "metadata": {
  "language_info": {
   "codemirror_mode": {
    "name": "ipython",
    "version": 3
   },
   "file_extension": ".py",
   "mimetype": "text/x-python",
   "name": "python",
   "nbconvert_exporter": "python",
   "pygments_lexer": "ipython3",
   "version": "3.7.0"
  },
  "orig_nbformat": 4,
  "kernelspec": {
   "name": "python3",
   "display_name": "Python 3.7.0 64-bit ('moana': conda)"
  },
  "interpreter": {
   "hash": "182d5140c8f9395b56fcb628525f4231eddc1c5623eab32b1c1368e2cb4803be"
  }
 },
 "nbformat": 4,
 "nbformat_minor": 2,
 "cells": [
  {
   "cell_type": "code",
   "execution_count": 176,
   "metadata": {},
   "outputs": [],
   "source": [
    "# Import modules\n",
    "import numpy as np\n",
    "import pandas as pd\n",
    "from sklearn.model_selection import train_test_split\n",
    "from sklearn.decomposition import PCA\n",
    "from sklearn.svm import NuSVC\n",
    "from sklearn import metrics \n",
    "\n",
    "# Evaluation parameters\n",
    "FILE_PATH = \"C:\\\\Users\\\\spack\\\\OneDrive - King's College London\\\\Individual Project\\\\Single Cell Sequencing with GANs\\\\Implementation\\\\DataPreprocessing\\\\sc_integrated_data.csv\"\n",
    "SEED = 30"
   ]
  },
  {
   "cell_type": "code",
   "execution_count": 121,
   "metadata": {},
   "outputs": [],
   "source": [
    "# Read in data\n",
    "data = pd.read_csv(FILE_PATH, delimiter=',')\n",
    "data = data.set_index(data.columns.values[0])"
   ]
  },
  {
   "cell_type": "code",
   "execution_count": 122,
   "metadata": {},
   "outputs": [],
   "source": [
    "# Split out the annotations\n",
    "anno = data[data.columns.values[-5:]]\n",
    "data = data.drop(data.columns.values[-5:], axis = 1)\n",
    "data = data.astype(np.float64)"
   ]
  },
  {
   "cell_type": "code",
   "execution_count": 161,
   "metadata": {},
   "outputs": [],
   "source": [
    "# Split into tran and test data\n",
    "train_data, test_data, train_anno, test_anno = train_test_split(data, anno, test_size = 0.9, random_state = SEED)"
   ]
  },
  {
   "cell_type": "code",
   "execution_count": 174,
   "metadata": {},
   "outputs": [],
   "source": [
    "# Create PCA object\n",
    "train_data_rm = PCA(n_components=2).fit_transform(train_data)\n",
    "test_data_rm = PCA(n_components=2).fit_transform(test_data)"
   ]
  },
  {
   "cell_type": "code",
   "execution_count": 163,
   "metadata": {},
   "outputs": [],
   "source": [
    "# Train SVM model\n",
    "svm_model = NuSVC(nu=0.02, kernel='linear',\n",
    "    decision_function_shape='ovo',\n",
    "    random_state=SEED)"
   ]
  },
  {
   "cell_type": "code",
   "execution_count": 172,
   "metadata": {},
   "outputs": [
    {
     "output_type": "execute_result",
     "data": {
      "text/plain": [
       "NuSVC(decision_function_shape='ovo', kernel='linear', nu=0.02, random_state=30)"
      ]
     },
     "metadata": {},
     "execution_count": 172
    }
   ],
   "source": [
    "# Fit the model\n",
    "svm_model.fit(train_data_rm, train_anno.iloc[:,1])"
   ]
  },
  {
   "cell_type": "code",
   "execution_count": 175,
   "metadata": {},
   "outputs": [],
   "source": [
    "# Evaluate performance using the test set\n",
    "predictions = svm_model.predict(test_data_rm)\n",
    "labels = test_anno.iloc[:,1]"
   ]
  },
  {
   "cell_type": "code",
   "execution_count": 178,
   "metadata": {},
   "outputs": [
    {
     "output_type": "execute_result",
     "data": {
      "text/plain": [
       "0.406142019645145"
      ]
     },
     "metadata": {},
     "execution_count": 178
    }
   ],
   "source": [
    "# Performance metrics\n",
    "accuracy = metrics.accuracy_score(predictions, labels)"
   ]
  }
 ]
}